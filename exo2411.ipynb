{
 "cells": [
  {
   "cell_type": "markdown",
   "metadata": {},
   "source": [
    "## \n",
    "Chargement des librairies"
   ]
  },
  {
   "cell_type": "code",
   "execution_count": 94,
   "metadata": {},
   "outputs": [],
   "source": [
    "import pandas as pd\n",
    "import numpy as np\n",
    "import matplotlib.pyplot as plt\n",
    "import joblib\n",
    "from sklearn.datasets import load_iris\n",
    "from sklearn.preprocessing import StandardScaler\n",
    "from sklearn.ensemble import RandomForestClassifier\n",
    "from sklearn.model_selection import train_test_split\n",
    "from sklearn.pipeline import Pipeline\n",
    "from sklearn.model_selection import GridSearchCV\n",
    "from sklearn.metrics import classification_report, accuracy_score  \n",
    "\n"
   ]
  },
  {
   "cell_type": "markdown",
   "metadata": {},
   "source": [
    "##\n",
    "Fonctions pour optimiser"
   ]
  },
  {
   "cell_type": "code",
   "execution_count": 102,
   "metadata": {},
   "outputs": [],
   "source": [
    "def prepare_data(df, target_column):\n",
    "    X = df.drop(target_column, axis=1)\n",
    "    y = df[target_column]\n",
    "    return train_test_split(X, y, test_size=0.2, random_state=2)\n",
    "\n",
    "def create_train_save_pipeline_with_grid_search(X_train, y_train, filename):\n",
    "    pipeline = Pipeline([\n",
    "        ('scaler', StandardScaler()),S\n",
    "        ('rf', RandomForestClassifier(random_state=2))\n",
    "    ])\n",
    "\n",
    "    param_grid = {\n",
    "        'rf__n_estimators': [100, 200, 300],\n",
    "        'rf__max_depth': [None, 10, 20, 30]\n",
    "    }\n",
    "\n",
    "    grid_search = GridSearchCV(pipeline, param_grid, cv=5, scoring='accuracy')\n",
    "    grid_search.fit(X_train, y_train)\n",
    "\n",
    "    # Imprimer les meilleurs paramètres et le meilleur score\n",
    "    print(\"Meilleurs paramètres:\", grid_search.best_params_)\n",
    "    print(\"Meilleur score de cross-validation:\", grid_search.best_score_)\n",
    "\n",
    "    joblib.dump(grid_search, filename)\n",
    "    return grid_search.best_estimator_\n",
    "\n",
    "def load_model_and_predict(filename, X_test):\n",
    "    loaded_grid_search = joblib.load(filename)\n",
    "    return loaded_grid_search.predict(X_test)"
   ]
  },
  {
   "cell_type": "markdown",
   "metadata": {},
   "source": [
    "##\n",
    " Application sur le jeu de données IRIS"
   ]
  },
  {
   "cell_type": "code",
   "execution_count": 103,
   "metadata": {},
   "outputs": [
    {
     "name": "stdout",
     "output_type": "stream",
     "text": [
      "Meilleurs paramètres: {'rf__max_depth': None, 'rf__n_estimators': 100}\n",
      "Meilleur score de cross-validation: 0.9583333333333333\n"
     ]
    }
   ],
   "source": [
    "iris = load_iris()\n",
    "df = pd.DataFrame(data=np.c_[iris.data, iris.target], columns=iris.feature_names + ['species'])\n",
    "df['species'] = df['species'].astype('int')\n",
    "target_column = 'species'\n",
    "X_train, X_test, y_train, y_test = prepare_data(df, target_column)\n",
    "\n",
    "\n",
    "pipeline = create_train_save_pipeline_with_grid_search(X_train, y_train, 'grid_search.joblib')\n",
    "predictions = load_model_and_predict('grid_search.joblib', X_test)"
   ]
  },
  {
   "cell_type": "code",
   "execution_count": 104,
   "metadata": {},
   "outputs": [
    {
     "name": "stdout",
     "output_type": "stream",
     "text": [
      "Précision: 0.9666666666666667\n",
      "              precision    recall  f1-score   support\n",
      "\n",
      "           0       1.00      1.00      1.00        14\n",
      "           1       1.00      0.88      0.93         8\n",
      "           2       0.89      1.00      0.94         8\n",
      "\n",
      "    accuracy                           0.97        30\n",
      "   macro avg       0.96      0.96      0.96        30\n",
      "weighted avg       0.97      0.97      0.97        30\n",
      "\n"
     ]
    }
   ],
   "source": [
    "accuracy = accuracy_score(y_test, predictions)\n",
    "print(f\"Précision: {accuracy}\")\n",
    "\n",
    "report = classification_report(y_test, predictions)\n",
    "print(report)"
   ]
  }
 ],
 "metadata": {
  "kernelspec": {
   "display_name": "Python 3",
   "language": "python",
   "name": "python3"
  },
  "language_info": {
   "codemirror_mode": {
    "name": "ipython",
    "version": 3
   },
   "file_extension": ".py",
   "mimetype": "text/x-python",
   "name": "python",
   "nbconvert_exporter": "python",
   "pygments_lexer": "ipython3",
   "version": "3.10.11"
  }
 },
 "nbformat": 4,
 "nbformat_minor": 2
}
